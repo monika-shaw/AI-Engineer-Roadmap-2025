{
 "cells": [
  {
   "cell_type": "code",
   "execution_count": null,
   "id": "a021f3e6-8f30-494e-8bc9-f79d47fa5c49",
   "metadata": {},
   "outputs": [],
   "source": [
    "Load a CSV dataset (e.g., Titanic or a sales dataset), clean missing values, and visualize relationships between columns.\n"
   ]
  },
  {
   "cell_type": "code",
   "execution_count": 29,
   "id": "2564274b-5a6a-4934-962d-97fd259fe660",
   "metadata": {},
   "outputs": [
    {
     "name": "stdout",
     "output_type": "stream",
     "text": [
      "   PassengerId            Name   Age     Sex  Survived\n",
      "0            1      John Smith  22.0    male         0\n",
      "1            2   Alice Johnson  38.0  female         1\n",
      "2            3       Bob Brown   NaN    male         1\n",
      "3            4  Linda Williams  35.0  female         1\n",
      "4            5    James Miller  28.0    male         0\n",
      "0    22.00\n",
      "1    38.00\n",
      "2    30.75\n",
      "3    35.00\n",
      "4    28.00\n",
      "Name: Age, dtype: float64\n",
      "   PassengerId            Name    Age     Sex  Survived\n",
      "0            1      John Smith  22.00    male         0\n",
      "1            2   Alice Johnson  38.00  female         1\n",
      "2            3       Bob Brown  30.75    male         1\n",
      "3            4  Linda Williams  35.00  female         1\n",
      "4            5    James Miller  28.00    male         0\n"
     ]
    },
    {
     "data": {
      "image/png": "[encoded data removed]",
      "text/plain": [
       "<Figure size 640x480 with 1 Axes>"
      ]
     },
     "metadata": {},
     "output_type": "display_data"
    }
   ],
   "source": [
    "import pandas as pd\n",
    "import numpy as np\n",
    "import matplotlib.pyplot as plt\n",
    "\n",
    "df = pd.read_csv('titanic.csv')\n",
    "print(df)\n",
    "\n",
    "age = df['Age'].fillna(df['Age'].mean())\n",
    "print(age)\n",
    "\n",
    "df['Age'] = age\n",
    "print(df)\n",
    "\n",
    "plt.hist(df['Age'], bins =20, color='teal')\n",
    "\n",
    "plt.title(\"Age Distribution of Passengers\")\n",
    "\n",
    "plt.xlabel(\"Age\")\n",
    "plt.ylabel(\"Count\")\n",
    "\n",
    "plt.show()\n"
   ]
  },
  {
   "cell_type": "code",
   "execution_count": null,
   "id": "ec16e82d-c359-49ff-af00-413c5cafc12d",
   "metadata": {},
   "outputs": [],
   "source": []
  },
  {
   "cell_type": "code",
   "execution_count": null,
   "id": "69b87da1-384e-454d-9af8-776c3be2fd5c",
   "metadata": {},
   "outputs": [],
   "source": []
  }
 ],
 "metadata": {
  "kernelspec": {
   "display_name": "Python 3 (ipykernel)",
   "language": "python",
   "name": "python3"
  },
  "language_info": {
   "codemirror_mode": {
    "name": "ipython",
    "version": 3
   },
   "file_extension": ".py",
   "mimetype": "text/x-python",
   "name": "python",
   "nbconvert_exporter": "python",
   "pygments_lexer": "ipython3",
   "version": "3.13.0"
  }
 },
 "nbformat": 4,
 "nbformat_minor": 5
}
