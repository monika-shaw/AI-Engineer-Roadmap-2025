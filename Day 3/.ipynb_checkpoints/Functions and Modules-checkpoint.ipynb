{
 "cells": [
  {
   "cell_type": "code",
   "execution_count": null,
   "id": "1adada62-40f9-4a31-9cb3-829790e188ef",
   "metadata": {},
   "outputs": [],
   "source": [
    "Write a function that returns the maximum temperature from a list."
   ]
  },
  {
   "cell_type": "code",
   "execution_count": 2,
   "id": "4633dbd5-521c-4ae0-9b6b-dc19933fa828",
   "metadata": {},
   "outputs": [
    {
     "name": "stdout",
     "output_type": "stream",
     "text": [
      "Max Temperature: 25\n"
     ]
    }
   ],
   "source": [
    "def max_temperature(temperatures):\n",
    "    max_temp = temperatures[0]\n",
    "\n",
    "    for temp in temperatures:\n",
    "        if(temp > max_temp):\n",
    "            max_temp = temp\n",
    "    return max_temp\n",
    "\n",
    "\n",
    "\n",
    "temperatures = [22, 24, 20, 19, 21, 23, 25]\n",
    "max_temp = max_temperature(temperatures)\n",
    "print(f\"Max Temperature: {max_temp}\")"
   ]
  },
  {
   "cell_type": "code",
   "execution_count": null,
   "id": "ba191177-eb99-4525-a431-0eeaf334438b",
   "metadata": {},
   "outputs": [],
   "source": [
    "Weather Summary Generator. Use your functions to calculate min, max, and average temperatures from a CSV file."
   ]
  },
  {
   "cell_type": "code",
   "execution_count": 4,
   "id": "fbb8384c-483b-4089-b407-a0f51c85cc44",
   "metadata": {},
   "outputs": [],
   "source": [
    "# Create a sample temperatures.csv file in your notebook directory\n",
    "with open('temperatures.csv', 'w') as file:\n",
    "    file.write('22.4\\n25.1\\n19.8\\n17.5\\n23.6\\n20.9\\n21.2\\n')\n"
   ]
  },
  {
   "cell_type": "code",
   "execution_count": null,
   "id": "1dc3d659-581b-401d-bba1-dcadd03a4d51",
   "metadata": {},
   "outputs": [],
   "source": []
  },
  {
   "cell_type": "code",
   "execution_count": null,
   "id": "403ea87f-75a6-43d3-996a-1a4a9f63c66a",
   "metadata": {},
   "outputs": [],
   "source": []
  }
 ],
 "metadata": {
  "kernelspec": {
   "display_name": "Python 3 (ipykernel)",
   "language": "python",
   "name": "python3"
  },
  "language_info": {
   "codemirror_mode": {
    "name": "ipython",
    "version": 3
   },
   "file_extension": ".py",
   "mimetype": "text/x-python",
   "name": "python",
   "nbconvert_exporter": "python",
   "pygments_lexer": "ipython3",
   "version": "3.13.0"
  }
 },
 "nbformat": 4,
 "nbformat_minor": 5
}
