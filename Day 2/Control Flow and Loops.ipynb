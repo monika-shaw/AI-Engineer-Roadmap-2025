{
 "cells": [
  {
   "cell_type": "code",
   "execution_count": null,
   "id": "72c0a6c0-6a4b-4684-a504-9a9375b73433",
   "metadata": {},
   "outputs": [],
   "source": [
    "Write a loop that prints daily temperature differences."
   ]
  },
  {
   "cell_type": "code",
   "execution_count": 4,
   "id": "0cd4a565-fa40-4dda-a1aa-f59eda83c080",
   "metadata": {},
   "outputs": [
    {
     "name": "stdout",
     "output_type": "stream",
     "text": [
      "Daily Temperature Differences\n",
      "Day 1: 24°C - Day 0: 22°C = 2°C\n",
      "Day 2: 20°C - Day 1: 24°C = -4°C\n",
      "Day 3: 19°C - Day 2: 20°C = -1°C\n",
      "Day 4: 21°C - Day 3: 19°C = 2°C\n",
      "Day 5: 23°C - Day 4: 21°C = 2°C\n",
      "Day 6: 25°C - Day 5: 23°C = 2°C\n"
     ]
    }
   ],
   "source": [
    "temperatures = [22, 24, 20, 19, 21, 23, 25]\n",
    "\n",
    "print(\"Daily Temperature Differences\")\n",
    "for i in range(1, len(temperatures)):\n",
    "                diff = temperatures[i]-temperatures[i-1]\n",
    "                print(f\"Day {i}: {temperatures[i]}°C - Day {i-1}: {temperatures[i-1]}°C = {diff}°C\")\n",
    "                \n"
   ]
  },
  {
   "cell_type": "code",
   "execution_count": null,
   "id": "ddcfc5a8-c512-4c15-9ca5-08e5c27b98d3",
   "metadata": {},
   "outputs": [],
   "source": [
    "Implement a for loop to average a list of values."
   ]
  },
  {
   "cell_type": "code",
   "execution_count": 5,
   "id": "f0c6ffd4-5585-4353-b640-61305d44db03",
   "metadata": {},
   "outputs": [
    {
     "name": "stdout",
     "output_type": "stream",
     "text": [
      "Average Value : 22.0\n"
     ]
    }
   ],
   "source": [
    "values = [22, 24, 20, 19, 21, 23, 25]\n",
    "\n",
    "total = 0\n",
    "for val in values:\n",
    "    total+=val\n",
    "    \n",
    "average = total/len(values)\n",
    "print(f\"Average Value : {average}\")"
   ]
  },
  {
   "cell_type": "code",
   "execution_count": null,
   "id": "4e60bd19-0b30-432a-83f1-421edc48b95e",
   "metadata": {},
   "outputs": [],
   "source": [
    "Rainfall Tracker. Given daily rainfall data, compute weekly averages and flag any day above the mean."
   ]
  },
  {
   "cell_type": "code",
   "execution_count": 7,
   "id": "6a1dc42d-4c68-4fb6-9357-ffbb1a1038cb",
   "metadata": {},
   "outputs": [
    {
     "name": "stdout",
     "output_type": "stream",
     "text": [
      "Weekly Average rainfall : 8.0\n",
      "Days with rainfall above weekly mean\n",
      "Day 2 :12 mm (above average)\n",
      "Day 5 :18 mm (above average)\n",
      "Day 6 :10 mm (above average)\n"
     ]
    }
   ],
   "source": [
    "rainfall = [5, 12, 8, 0, 18, 10, 3]  # One week\n",
    "\n",
    "total = 0\n",
    "\n",
    "for val in rainfall:\n",
    "    total+=val\n",
    "\n",
    "weekly_avg = total/len(rainfall)\n",
    "\n",
    "print(f\"Weekly Average rainfall : {weekly_avg}\")\n",
    "\n",
    "print(\"Days with rainfall above weekly mean\")\n",
    "\n",
    "for i,val in enumerate(rainfall):\n",
    "    if val > weekly_avg:\n",
    "        print(f\"Day {i+1} :{val} mm (above average)\")\n",
    "\n"
   ]
  },
  {
   "cell_type": "code",
   "execution_count": null,
   "id": "b7115a25-6302-4e2a-8b10-fe20adbdb784",
   "metadata": {},
   "outputs": [],
   "source": []
  }
 ],
 "metadata": {
  "kernelspec": {
   "display_name": "Python 3 (ipykernel)",
   "language": "python",
   "name": "python3"
  },
  "language_info": {
   "codemirror_mode": {
    "name": "ipython",
    "version": 3
   },
   "file_extension": ".py",
   "mimetype": "text/x-python",
   "name": "python",
   "nbconvert_exporter": "python",
   "pygments_lexer": "ipython3",
   "version": "3.13.0"
  }
 },
 "nbformat": 4,
 "nbformat_minor": 5
}
