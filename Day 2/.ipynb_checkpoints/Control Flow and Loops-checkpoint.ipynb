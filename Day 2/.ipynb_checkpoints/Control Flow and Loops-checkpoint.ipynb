{
 "cells": [
  {
   "cell_type": "code",
   "execution_count": null,
   "id": "72c0a6c0-6a4b-4684-a504-9a9375b73433",
   "metadata": {},
   "outputs": [],
   "source": [
    "Write a loop that prints daily temperature differences."
   ]
  },
  {
   "cell_type": "code",
   "execution_count": 4,
   "id": "0cd4a565-fa40-4dda-a1aa-f59eda83c080",
   "metadata": {},
   "outputs": [
    {
     "name": "stdout",
     "output_type": "stream",
     "text": [
      "Daily Temperature Differences\n",
      "Day 1: 24°C - Day 0: 22°C = 2°C\n",
      "Day 2: 20°C - Day 1: 24°C = -4°C\n",
      "Day 3: 19°C - Day 2: 20°C = -1°C\n",
      "Day 4: 21°C - Day 3: 19°C = 2°C\n",
      "Day 5: 23°C - Day 4: 21°C = 2°C\n",
      "Day 6: 25°C - Day 5: 23°C = 2°C\n"
     ]
    }
   ],
   "source": [
    "temperatures = [22, 24, 20, 19, 21, 23, 25]\n",
    "\n",
    "print(\"Daily Temperature Differences\")\n",
    "for i in range(1, len(temperatures)):\n",
    "                diff = temperatures[i]-temperatures[i-1]\n",
    "                print(f\"Day {i}: {temperatures[i]}°C - Day {i-1}: {temperatures[i-1]}°C = {diff}°C\")\n",
    "                \n"
   ]
  },
  {
   "cell_type": "code",
   "execution_count": null,
   "id": "ddcfc5a8-c512-4c15-9ca5-08e5c27b98d3",
   "metadata": {},
   "outputs": [],
   "source": [
    "Implement a for loop to average a list of values."
   ]
  },
  {
   "cell_type": "code",
   "execution_count": null,
   "id": "f0c6ffd4-5585-4353-b640-61305d44db03",
   "metadata": {},
   "outputs": [],
   "source": [
    "values = [22, 24, 20, 19, 21, 23, 25]\n",
    "\n",
    "total = 0\n",
    "for val in values:\n",
    "    total+=val\n",
    "    \n",
    "average = total/len(values)\n",
    "print(f\"Average Value : {average}\")"
   ]
  }
 ],
 "metadata": {
  "kernelspec": {
   "display_name": "Python 3 (ipykernel)",
   "language": "python",
   "name": "python3"
  },
  "language_info": {
   "codemirror_mode": {
    "name": "ipython",
    "version": 3
   },
   "file_extension": ".py",
   "mimetype": "text/x-python",
   "name": "python",
   "nbconvert_exporter": "python",
   "pygments_lexer": "ipython3",
   "version": "3.13.0"
  }
 },
 "nbformat": 4,
 "nbformat_minor": 5
}
