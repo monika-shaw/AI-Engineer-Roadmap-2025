{
 "cells": [
  {
   "cell_type": "code",
   "execution_count": 3,
   "id": "000ddaff-39a6-47e4-973a-05f67bb5cc9c",
   "metadata": {},
   "outputs": [
    {
     "name": "stdout",
     "output_type": "stream",
     "text": [
      "2.3.3\n"
     ]
    }
   ],
   "source": [
    "import pandas as pd\n",
    "print(pd.__version__)"
   ]
  },
  {
   "cell_type": "code",
   "execution_count": 5,
   "id": "9159a7f2-d3b5-4d53-9744-67dd78bbf405",
   "metadata": {},
   "outputs": [
    {
     "name": "stdout",
     "output_type": "stream",
     "text": [
      "0    1\n",
      "1    2\n",
      "2    3\n",
      "3    4\n",
      "dtype: int64\n"
     ]
    }
   ],
   "source": [
    "date = [1,2,3,4]\n",
    "s = pd.Series(date)\n",
    "print(s)"
   ]
  },
  {
   "cell_type": "code",
   "execution_count": 6,
   "id": "dae6ef1c-8203-4551-98ce-e28b7d02b3b4",
   "metadata": {},
   "outputs": [
    {
     "name": "stdout",
     "output_type": "stream",
     "text": [
      "    Name  Age\n",
      "0    Tom   25\n",
      "1  Jerry   24\n",
      "2  Spike   30\n"
     ]
    }
   ],
   "source": [
    "data = {'Name': ['Tom', 'Jerry', 'Spike'], 'Age': [25, 24, 30]}\n",
    "df = pd.DataFrame(data)\n",
    "print(df)\n"
   ]
  },
  {
   "cell_type": "code",
   "execution_count": 7,
   "id": "67bc61fe-8687-4919-b57f-0b6210d1f2cf",
   "metadata": {},
   "outputs": [
    {
     "name": "stdout",
     "output_type": "stream",
     "text": [
      "      Name  Age      City\n",
      "0    Alice   25  New York\n",
      "1      Bob   30    London\n",
      "2  Charlie   35     Paris\n"
     ]
    }
   ],
   "source": [
    "data = {\n",
    "    'Name': ['Alice', 'Bob', 'Charlie'],\n",
    "    'Age': [25, 30, 35],\n",
    "    'City': ['New York', 'London', 'Paris']\n",
    "}\n",
    "df = pd.DataFrame(data)\n",
    "print(df)\n"
   ]
  },
  {
   "cell_type": "code",
   "execution_count": 9,
   "id": "f8136622-b706-44e9-b6fd-d8d59178d4fc",
   "metadata": {},
   "outputs": [],
   "source": [
    "\n",
    "df.to_csv('sample_data.csv', index=False)\n"
   ]
  },
  {
   "cell_type": "code",
   "execution_count": 20,
   "id": "8db0a449-ad93-44f4-9e33-389c8b1655ff",
   "metadata": {},
   "outputs": [
    {
     "name": "stdout",
     "output_type": "stream",
     "text": [
      "    Name  Age      City\n",
      "0  Alice   25  New York\n",
      "1    Bob   30    London\n",
      "Index(['Name', 'Age', 'City'], dtype='object')\n"
     ]
    }
   ],
   "source": [
    "df = pd.read_csv('sample_data.csv')\n",
    "print(df.head(2))\n",
    "print(df.columns)\n"
   ]
  },
  {
   "cell_type": "code",
   "execution_count": 21,
   "id": "965a9de6-0b80-49bb-b4d7-08797e5a9b46",
   "metadata": {},
   "outputs": [
    {
     "name": "stdout",
     "output_type": "stream",
     "text": [
      "   ID Name  Score\n",
      "0   1    A     90\n",
      "1   2    B     80\n"
     ]
    }
   ],
   "source": [
    "df1 = pd.DataFrame({'ID':[1,2], 'Name':['A','B']})\n",
    "df2 = pd.DataFrame({'ID':[1,2], 'Score':[90,80]})\n",
    "merged = pd.merge(df1, df2, on='ID')\n",
    "print(merged)\n"
   ]
  },
  {
   "cell_type": "code",
   "execution_count": 22,
   "id": "9de78d80-0e44-4a72-881a-f2bfe1d14a22",
   "metadata": {},
   "outputs": [
    {
     "name": "stdout",
     "output_type": "stream",
     "text": [
      "      Name  Age      City\n",
      "0    Alice   25  New York\n",
      "1      Bob   30    London\n",
      "2  Charlie   35     Paris\n",
      "3        C   22       NaN\n",
      "4        D   25       NaN\n"
     ]
    }
   ],
   "source": [
    "df3 = pd.DataFrame({'Name': ['C', 'D'], 'Age':[22,25]})\n",
    "result = pd.concat([df, df3], ignore_index=True)\n",
    "print(result)\n"
   ]
  },
  {
   "cell_type": "code",
   "execution_count": null,
   "id": "7e1a73d8-6b8f-4583-b295-55cd31a7dc7d",
   "metadata": {},
   "outputs": [],
   "source": []
  }
 ],
 "metadata": {
  "kernelspec": {
   "display_name": "Python 3 (ipykernel)",
   "language": "python",
   "name": "python3"
  },
  "language_info": {
   "codemirror_mode": {
    "name": "ipython",
    "version": 3
   },
   "file_extension": ".py",
   "mimetype": "text/x-python",
   "name": "python",
   "nbconvert_exporter": "python",
   "pygments_lexer": "ipython3",
   "version": "3.13.0"
  }
 },
 "nbformat": 4,
 "nbformat_minor": 5
}
