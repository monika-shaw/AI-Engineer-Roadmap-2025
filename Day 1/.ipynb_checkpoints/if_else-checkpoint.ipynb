{
 "cells": [
  {
   "cell_type": "code",
   "execution_count": null,
   "id": "26944665-6fcd-45f0-a083-9aed40bf724b",
   "metadata": {},
   "outputs": [],
   "source": [
    "Write a script that takes temperature input and classifies it as hot/cold.`"
   ]
  },
  {
   "cell_type": "code",
   "execution_count": 1,
   "id": "6c848c14-4240-493f-9c5f-dcb4cd50ec84",
   "metadata": {},
   "outputs": [
    {
     "name": "stdin",
     "output_type": "stream",
     "text": [
      "Enter the temperature in Celsius:  5\n"
     ]
    },
    {
     "name": "stdout",
     "output_type": "stream",
     "text": [
      "It's cold!\n"
     ]
    }
   ],
   "source": [
    "\n",
    "temperature = float(input(\"Enter the temperature in Celsius: \"))\n",
    "\n",
    "if temperature > 30:\n",
    "    print(\"It's hot!\")\n",
    "elif temperature < 15:\n",
    "    print(\"It's cold!\")\n",
    "else:\n",
    "    print(\"It's moderate.\")\n"
   ]
  },
  {
   "cell_type": "code",
   "execution_count": null,
   "id": "77af0fa3-bc25-43c9-af54-d4adb12d883b",
   "metadata": {},
   "outputs": [],
   "source": [
    "Create a Jupyter notebook that prints a daily weather summary using variables."
   ]
  },
  {
   "cell_type": "code",
   "execution_count": 5,
   "id": "15ce3283-37c8-455e-bef4-ca5c662ca236",
   "metadata": {},
   "outputs": [
    {
     "name": "stdout",
     "output_type": "stream",
     "text": [
      "Weather Summary for date : 23-20-2025\n"
     ]
    }
   ],
   "source": [
    "date =\"23-20-2025\"\n",
    "temperature = 28.5           \n",
    "humidity = 62               \n",
    "weather_condition = \"Partly cloudy\"\n",
    "wind_speed = 12             \n",
    "print(f\"Weather Summary for date : {date}\")\n",
    "print(f\"Condition: {weather_condition}\")\n",
    "print(f\"Temperature: {temperature}°C\")\n",
    "print(f\"Humidity: {humidity}%\")\n",
    "print(f\"Wind Speed: {wind_speed} km/h\")"
   ]
  },
  {
   "cell_type": "code",
   "execution_count": null,
   "id": "e3b64abf-6720-44c2-9e8f-ff8f08b0d760",
   "metadata": {},
   "outputs": [],
   "source": []
  }
 ],
 "metadata": {
  "kernelspec": {
   "display_name": "Python 3 (ipykernel)",
   "language": "python",
   "name": "python3"
  },
  "language_info": {
   "codemirror_mode": {
    "name": "ipython",
    "version": 3
   },
   "file_extension": ".py",
   "mimetype": "text/x-python",
   "name": "python",
   "nbconvert_exporter": "python",
   "pygments_lexer": "ipython3",
   "version": "3.13.0"
  }
 },
 "nbformat": 4,
 "nbformat_minor": 5
}
