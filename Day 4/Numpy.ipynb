{
 "cells": [
  {
   "cell_type": "code",
   "execution_count": null,
   "id": "dcd8d978-8b7d-4e93-b474-90e1590987ff",
   "metadata": {},
   "outputs": [],
   "source": [
    "Create NumPy arrays for a week of temperature data."
   ]
  },
  {
   "cell_type": "code",
   "execution_count": 1,
   "id": "42427911-e9c0-447f-95c5-d898d668f509",
   "metadata": {},
   "outputs": [
    {
     "name": "stdout",
     "output_type": "stream",
     "text": [
      "Weekly Temperatures: [23.4 23.1]\n"
     ]
    }
   ],
   "source": [
    "import numpy as np\n",
    "\n",
    "temperatures = np.array([23.4,23.1])\n",
    "print(f\"Weekly Temperatures: {temperatures}\")"
   ]
  },
  {
   "cell_type": "code",
   "execution_count": null,
   "id": "9431c9a9-401a-422c-ac48-c3f43adbb67c",
   "metadata": {},
   "outputs": [],
   "source": [
    "Compute mean and standard deviation with np.mean, np.std."
   ]
  },
  {
   "cell_type": "code",
   "execution_count": 3,
   "id": "024f21d8-77bb-4ca0-9b3f-750b3f0f793f",
   "metadata": {},
   "outputs": [
    {
     "name": "stdout",
     "output_type": "stream",
     "text": [
      "Mean : 21.5\n",
      "STD : 2.3151673805580453\n"
     ]
    }
   ],
   "source": [
    "import numpy as np\n",
    "\n",
    "week_temps = np.array([22.4, 25.1, 19.8, 17.5, 23.6, 20.9, 21.2])\n",
    "\n",
    "mean = np.mean(week_temps)\n",
    "std = np.std(week_temps)\n",
    "\n",
    "print(f\"Mean : {mean}\")\n",
    "print(f\"STD : {std}\")"
   ]
  },
  {
   "cell_type": "code",
   "execution_count": null,
   "id": "09f2b187-755c-46cd-a77e-17fb05b4c544",
   "metadata": {},
   "outputs": [],
   "source": [
    "City Temperature Analysis. Compare the mean temperature of two cities using NumPy arrays."
   ]
  },
  {
   "cell_type": "code",
   "execution_count": 11,
   "id": "80f45ee4-5a47-4c8f-b53a-86f965feb8b5",
   "metadata": {},
   "outputs": [
    {
     "name": "stdout",
     "output_type": "stream",
     "text": [
      "Pune mean temeprature 21.5\n",
      "Hzb mean temperature 20.842857142857145\n",
      "Pune city is warmer on average this week\n"
     ]
    }
   ],
   "source": [
    "import numpy as np\n",
    "pune = np.array([22.4, 25.1, 19.8, 17.5, 23.6, 20.9, 21.2])\n",
    "hzb = np.array([18.3, 20.8, 21.5, 19.7, 22.0, 23.5, 20.1])\n",
    "\n",
    "pune_mean = np.mean(pune)\n",
    "hzb_mean = np.mean(hzb)\n",
    "\n",
    "print(\"Pune mean temeprature\", pune_mean)\n",
    "print(\"Hzb mean temperature\", hzb_mean)\n",
    "\n",
    "if(pune_mean > hzb_mean):\n",
    "    print(\"Pune city is warmer on average this week\")\n",
    "elif (hzb_mean > pune_mean):\n",
    "    print(\"Hzb city is  warmer on average this week\")\n",
    "else:\n",
    "    print(\"Both cities had the same weekly average temperature\")"
   ]
  },
  {
   "cell_type": "code",
   "execution_count": null,
   "id": "e944f79f-4153-4d9f-a3fc-803fb89a5702",
   "metadata": {},
   "outputs": [],
   "source": [
    "Create a NumPy array with values from 0 to 9"
   ]
  },
  {
   "cell_type": "code",
   "execution_count": 5,
   "id": "09c11fbe-b64a-41a4-8440-e0cba66c3173",
   "metadata": {},
   "outputs": [
    {
     "name": "stdout",
     "output_type": "stream",
     "text": [
      "[ 4  5  6  7  8  9 10]\n"
     ]
    }
   ],
   "source": [
    "import numpy as np\n",
    "arr = np.arange(4,11)\n",
    "print(arr)"
   ]
  },
  {
   "cell_type": "code",
   "execution_count": null,
   "id": "e294f31f-e99a-42fe-bd9b-1022099dd4f5",
   "metadata": {},
   "outputs": [],
   "source": [
    "Create a 3x3 array of all True values"
   ]
  },
  {
   "cell_type": "code",
   "execution_count": 12,
   "id": "913e12d4-319c-4a20-8120-7483350e5983",
   "metadata": {},
   "outputs": [
    {
     "name": "stdout",
     "output_type": "stream",
     "text": [
      "[[ True  True  True]\n",
      " [ True  True  True]\n",
      " [ True  True  True]]\n"
     ]
    }
   ],
   "source": [
    "arr = np.full((3,3), True, dtype=bool)\n",
    "print(arr)"
   ]
  },
  {
   "cell_type": "code",
   "execution_count": null,
   "id": "14473301-7696-4e0c-a00c-def5cf6f3ca3",
   "metadata": {},
   "outputs": [],
   "source": [
    "Convert a Python list [1,2,3,4] to a NumPy array"
   ]
  },
  {
   "cell_type": "code",
   "execution_count": 13,
   "id": "9f84f2d9-fc03-4bd9-8831-c9381f944ade",
   "metadata": {},
   "outputs": [
    {
     "name": "stdout",
     "output_type": "stream",
     "text": [
      "[1 2 3 4]\n"
     ]
    }
   ],
   "source": [
    "list = [1,2,3,4]\n",
    "arr = np.array(list)\n",
    "print(arr)"
   ]
  }
 ],
 "metadata": {
  "kernelspec": {
   "display_name": "Python 3 (ipykernel)",
   "language": "python",
   "name": "python3"
  },
  "language_info": {
   "codemirror_mode": {
    "name": "ipython",
    "version": 3
   },
   "file_extension": ".py",
   "mimetype": "text/x-python",
   "name": "python",
   "nbconvert_exporter": "python",
   "pygments_lexer": "ipython3",
   "version": "3.13.0"
  }
 },
 "nbformat": 4,
 "nbformat_minor": 5
}
